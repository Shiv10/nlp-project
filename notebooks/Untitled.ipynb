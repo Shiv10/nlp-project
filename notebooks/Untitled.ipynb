{
 "cells": [
  {
   "cell_type": "code",
   "execution_count": 37,
   "id": "301d8aaf",
   "metadata": {},
   "outputs": [],
   "source": [
    "import re\n",
    "import pandas as pd\n",
    "import numpy as np\n",
    "import pickle\n",
    "import nltk\n",
    "from sklearn.preprocessing import LabelEncoder\n",
    "from nltk.corpus import stopwords\n",
    "from nltk.tokenize import word_tokenize\n",
    "from nltk.stem.porter import PorterStemmer\n",
    "from sklearn.feature_extraction.text import TfidfVectorizer"
   ]
  },
  {
   "cell_type": "markdown",
   "id": "efd78af1",
   "metadata": {},
   "source": [
    "## Forming the dataframe"
   ]
  },
  {
   "cell_type": "code",
   "execution_count": 38,
   "id": "2ca73a8d",
   "metadata": {},
   "outputs": [
    {
     "data": {
      "text/html": [
       "<div>\n",
       "<style scoped>\n",
       "    .dataframe tbody tr th:only-of-type {\n",
       "        vertical-align: middle;\n",
       "    }\n",
       "\n",
       "    .dataframe tbody tr th {\n",
       "        vertical-align: top;\n",
       "    }\n",
       "\n",
       "    .dataframe thead th {\n",
       "        text-align: right;\n",
       "    }\n",
       "</style>\n",
       "<table border=\"1\" class=\"dataframe\">\n",
       "  <thead>\n",
       "    <tr style=\"text-align: right;\">\n",
       "      <th></th>\n",
       "      <th>id</th>\n",
       "      <th>text</th>\n",
       "      <th>label</th>\n",
       "      <th>withheld</th>\n",
       "    </tr>\n",
       "  </thead>\n",
       "  <tbody>\n",
       "    <tr>\n",
       "      <th>0</th>\n",
       "      <td>850490912954351616</td>\n",
       "      <td>Alex Brosas another idiot #ALDUBKSGoesToUS  ht...</td>\n",
       "      <td>abusive</td>\n",
       "      <td>NaN</td>\n",
       "    </tr>\n",
       "    <tr>\n",
       "      <th>1</th>\n",
       "      <td>848791766853668864</td>\n",
       "      <td>RT @ItIzBiz: as Nancy Reagan would say, 'just ...</td>\n",
       "      <td>abusive</td>\n",
       "      <td>NaN</td>\n",
       "    </tr>\n",
       "    <tr>\n",
       "      <th>2</th>\n",
       "      <td>850010509969465344</td>\n",
       "      <td>RT @MailOnline: The Nazi death gas so horrific...</td>\n",
       "      <td>normal</td>\n",
       "      <td>NaN</td>\n",
       "    </tr>\n",
       "    <tr>\n",
       "      <th>3</th>\n",
       "      <td>850433664890544128</td>\n",
       "      <td>I hate er chase because if the Bitch that work...</td>\n",
       "      <td>hateful</td>\n",
       "      <td>NaN</td>\n",
       "    </tr>\n",
       "    <tr>\n",
       "      <th>4</th>\n",
       "      <td>849282894682050564</td>\n",
       "      <td>But he still with the shits so he started smok...</td>\n",
       "      <td>abusive</td>\n",
       "      <td>NaN</td>\n",
       "    </tr>\n",
       "  </tbody>\n",
       "</table>\n",
       "</div>"
      ],
      "text/plain": [
       "                   id                                               text  \\\n",
       "0  850490912954351616  Alex Brosas another idiot #ALDUBKSGoesToUS  ht...   \n",
       "1  848791766853668864  RT @ItIzBiz: as Nancy Reagan would say, 'just ...   \n",
       "2  850010509969465344  RT @MailOnline: The Nazi death gas so horrific...   \n",
       "3  850433664890544128  I hate er chase because if the Bitch that work...   \n",
       "4  849282894682050564  But he still with the shits so he started smok...   \n",
       "\n",
       "     label withheld  \n",
       "0  abusive      NaN  \n",
       "1  abusive      NaN  \n",
       "2   normal      NaN  \n",
       "3  hateful      NaN  \n",
       "4  abusive      NaN  "
      ]
     },
     "execution_count": 38,
     "metadata": {},
     "output_type": "execute_result"
    }
   ],
   "source": [
    "df = pd.read_json('../src/utility/final.json')\n",
    "df = pd.DataFrame(df.data.values.tolist())\n",
    "df.head()"
   ]
  },
  {
   "cell_type": "code",
   "execution_count": 39,
   "id": "4a3c9e85",
   "metadata": {},
   "outputs": [
    {
     "data": {
      "text/html": [
       "<div>\n",
       "<style scoped>\n",
       "    .dataframe tbody tr th:only-of-type {\n",
       "        vertical-align: middle;\n",
       "    }\n",
       "\n",
       "    .dataframe tbody tr th {\n",
       "        vertical-align: top;\n",
       "    }\n",
       "\n",
       "    .dataframe thead th {\n",
       "        text-align: right;\n",
       "    }\n",
       "</style>\n",
       "<table border=\"1\" class=\"dataframe\">\n",
       "  <thead>\n",
       "    <tr style=\"text-align: right;\">\n",
       "      <th></th>\n",
       "      <th>text</th>\n",
       "      <th>label</th>\n",
       "    </tr>\n",
       "  </thead>\n",
       "  <tbody>\n",
       "    <tr>\n",
       "      <th>0</th>\n",
       "      <td>Alex Brosas another idiot #ALDUBKSGoesToUS  ht...</td>\n",
       "      <td>abusive</td>\n",
       "    </tr>\n",
       "    <tr>\n",
       "      <th>1</th>\n",
       "      <td>RT @ItIzBiz: as Nancy Reagan would say, 'just ...</td>\n",
       "      <td>abusive</td>\n",
       "    </tr>\n",
       "    <tr>\n",
       "      <th>2</th>\n",
       "      <td>RT @MailOnline: The Nazi death gas so horrific...</td>\n",
       "      <td>normal</td>\n",
       "    </tr>\n",
       "    <tr>\n",
       "      <th>3</th>\n",
       "      <td>I hate er chase because if the Bitch that work...</td>\n",
       "      <td>hateful</td>\n",
       "    </tr>\n",
       "    <tr>\n",
       "      <th>4</th>\n",
       "      <td>But he still with the shits so he started smok...</td>\n",
       "      <td>abusive</td>\n",
       "    </tr>\n",
       "  </tbody>\n",
       "</table>\n",
       "</div>"
      ],
      "text/plain": [
       "                                                text    label\n",
       "0  Alex Brosas another idiot #ALDUBKSGoesToUS  ht...  abusive\n",
       "1  RT @ItIzBiz: as Nancy Reagan would say, 'just ...  abusive\n",
       "2  RT @MailOnline: The Nazi death gas so horrific...   normal\n",
       "3  I hate er chase because if the Bitch that work...  hateful\n",
       "4  But he still with the shits so he started smok...  abusive"
      ]
     },
     "execution_count": 39,
     "metadata": {},
     "output_type": "execute_result"
    }
   ],
   "source": [
    "df = df.drop(['id', 'withheld'], axis=1)\n",
    "df.head()"
   ]
  },
  {
   "cell_type": "code",
   "execution_count": 80,
   "id": "d7c329ee",
   "metadata": {},
   "outputs": [
    {
     "data": {
      "text/plain": [
       "array([0, 1, 2, 3])"
      ]
     },
     "execution_count": 80,
     "metadata": {},
     "output_type": "execute_result"
    }
   ],
   "source": [
    "lb = LabelEncoder()\n",
    "label = lb.fit_transform(df[\"label\"])\n",
    "lb.classes_"
   ]
  },
  {
   "cell_type": "code",
   "execution_count": 81,
   "id": "7fd8897a",
   "metadata": {},
   "outputs": [
    {
     "data": {
      "text/html": [
       "<div>\n",
       "<style scoped>\n",
       "    .dataframe tbody tr th:only-of-type {\n",
       "        vertical-align: middle;\n",
       "    }\n",
       "\n",
       "    .dataframe tbody tr th {\n",
       "        vertical-align: top;\n",
       "    }\n",
       "\n",
       "    .dataframe thead th {\n",
       "        text-align: right;\n",
       "    }\n",
       "</style>\n",
       "<table border=\"1\" class=\"dataframe\">\n",
       "  <thead>\n",
       "    <tr style=\"text-align: right;\">\n",
       "      <th></th>\n",
       "      <th>text</th>\n",
       "      <th>label</th>\n",
       "      <th>clean_tweet</th>\n",
       "    </tr>\n",
       "  </thead>\n",
       "  <tbody>\n",
       "    <tr>\n",
       "      <th>0</th>\n",
       "      <td>alex brosas another idiot aldubksgoestous</td>\n",
       "      <td>0</td>\n",
       "      <td>alex brosa anoth idiot aldubksgoest</td>\n",
       "    </tr>\n",
       "    <tr>\n",
       "      <th>1</th>\n",
       "      <td>as nancy reagan would say   just say fucking...</td>\n",
       "      <td>0</td>\n",
       "      <td>nanci reagan would say say fuck someth like</td>\n",
       "    </tr>\n",
       "    <tr>\n",
       "      <th>2</th>\n",
       "      <td>the nazi death gas so horrific even hitler f...</td>\n",
       "      <td>2</td>\n",
       "      <td>nazi death ga horrif even hitler fear use</td>\n",
       "    </tr>\n",
       "    <tr>\n",
       "      <th>3</th>\n",
       "      <td>i hate er chase because if the bitch that work...</td>\n",
       "      <td>1</td>\n",
       "      <td>hate er chase bitch work liter evil</td>\n",
       "    </tr>\n",
       "    <tr>\n",
       "      <th>4</th>\n",
       "      <td>but he still with the shits so he started smok...</td>\n",
       "      <td>0</td>\n",
       "      <td>still shit start smoke drink bad combo probabl...</td>\n",
       "    </tr>\n",
       "    <tr>\n",
       "      <th>5</th>\n",
       "      <td>april fools fucking dope if you ain t feelin...</td>\n",
       "      <td>0</td>\n",
       "      <td>april fool fuck dope feel rigor morti dummi hi...</td>\n",
       "    </tr>\n",
       "    <tr>\n",
       "      <th>6</th>\n",
       "      <td>not having access to my money is fucking pissi...</td>\n",
       "      <td>0</td>\n",
       "      <td>access money fuck piss</td>\n",
       "    </tr>\n",
       "    <tr>\n",
       "      <th>7</th>\n",
       "      <td>niggas keep talking about women wearing weave ...</td>\n",
       "      <td>1</td>\n",
       "      <td>nigga keep talk women wear weav sick bitch fro...</td>\n",
       "    </tr>\n",
       "    <tr>\n",
       "      <th>8</th>\n",
       "      <td>god  you re fucking pathetic</td>\n",
       "      <td>0</td>\n",
       "      <td>god fuck pathet</td>\n",
       "    </tr>\n",
       "    <tr>\n",
       "      <th>9</th>\n",
       "      <td>you worried about somebody bein ugly    bitch ...</td>\n",
       "      <td>0</td>\n",
       "      <td>worri somebodi bein ugli bitch ugli</td>\n",
       "    </tr>\n",
       "    <tr>\n",
       "      <th>10</th>\n",
       "      <td>carlos correa had gyalchester as his walkup mu...</td>\n",
       "      <td>2</td>\n",
       "      <td>carlo correa gyalchest walkup music bad ass</td>\n",
       "    </tr>\n",
       "    <tr>\n",
       "      <th>11</th>\n",
       "      <td>damn dean just put corbin to sleep  that match...</td>\n",
       "      <td>0</td>\n",
       "      <td>damn dean put corbin sleep match also show pre...</td>\n",
       "    </tr>\n",
       "    <tr>\n",
       "      <th>12</th>\n",
       "      <td>the force awakens  a bad lip reading   featur...</td>\n",
       "      <td>2</td>\n",
       "      <td>forc awaken bad lip read featur mark hamil han...</td>\n",
       "    </tr>\n",
       "    <tr>\n",
       "      <th>13</th>\n",
       "      <td>i hate a ol i forgot my wallet at home but i h...</td>\n",
       "      <td>0</td>\n",
       "      <td>hate ol forgot wallet home id ass bitch</td>\n",
       "    </tr>\n",
       "    <tr>\n",
       "      <th>14</th>\n",
       "      <td>i just want to cry so fucking bad look at them</td>\n",
       "      <td>0</td>\n",
       "      <td>want cri fuck bad look</td>\n",
       "    </tr>\n",
       "    <tr>\n",
       "      <th>15</th>\n",
       "      <td>i m a bad bitch you can t kill me</td>\n",
       "      <td>0</td>\n",
       "      <td>bad bitch kill</td>\n",
       "    </tr>\n",
       "    <tr>\n",
       "      <th>16</th>\n",
       "      <td>this is one ass extended april fools i pray so...</td>\n",
       "      <td>0</td>\n",
       "      <td>one ass extend april fool pray someon say bad ...</td>\n",
       "    </tr>\n",
       "    <tr>\n",
       "      <th>17</th>\n",
       "      <td>btw i watched where you watched my pov on st...</td>\n",
       "      <td>2</td>\n",
       "      <td>btw watch watch pov stream boii feel retard</td>\n",
       "    </tr>\n",
       "    <tr>\n",
       "      <th>18</th>\n",
       "      <td>disgusting  insulting  parks are not a chari...</td>\n",
       "      <td>0</td>\n",
       "      <td>disgust insult park chariti give fuck budget a...</td>\n",
       "    </tr>\n",
       "    <tr>\n",
       "      <th>19</th>\n",
       "      <td>every bird turd is talking  children of god  ...</td>\n",
       "      <td>2</td>\n",
       "      <td>everi bird turd talk children god bro amp sist...</td>\n",
       "    </tr>\n",
       "  </tbody>\n",
       "</table>\n",
       "</div>"
      ],
      "text/plain": [
       "                                                 text  label  \\\n",
       "0         alex brosas another idiot aldubksgoestous        0   \n",
       "1     as nancy reagan would say   just say fucking...      0   \n",
       "2     the nazi death gas so horrific even hitler f...      2   \n",
       "3   i hate er chase because if the bitch that work...      1   \n",
       "4   but he still with the shits so he started smok...      0   \n",
       "5     april fools fucking dope if you ain t feelin...      0   \n",
       "6   not having access to my money is fucking pissi...      0   \n",
       "7   niggas keep talking about women wearing weave ...      1   \n",
       "8                     god  you re fucking pathetic         0   \n",
       "9   you worried about somebody bein ugly    bitch ...      0   \n",
       "10  carlos correa had gyalchester as his walkup mu...      2   \n",
       "11  damn dean just put corbin to sleep  that match...      0   \n",
       "12   the force awakens  a bad lip reading   featur...      2   \n",
       "13  i hate a ol i forgot my wallet at home but i h...      0   \n",
       "14    i just want to cry so fucking bad look at them       0   \n",
       "15                 i m a bad bitch you can t kill me       0   \n",
       "16  this is one ass extended april fools i pray so...      0   \n",
       "17    btw i watched where you watched my pov on st...      2   \n",
       "18    disgusting  insulting  parks are not a chari...      0   \n",
       "19   every bird turd is talking  children of god  ...      2   \n",
       "\n",
       "                                          clean_tweet  \n",
       "0                 alex brosa anoth idiot aldubksgoest  \n",
       "1         nanci reagan would say say fuck someth like  \n",
       "2           nazi death ga horrif even hitler fear use  \n",
       "3                 hate er chase bitch work liter evil  \n",
       "4   still shit start smoke drink bad combo probabl...  \n",
       "5   april fool fuck dope feel rigor morti dummi hi...  \n",
       "6                              access money fuck piss  \n",
       "7   nigga keep talk women wear weav sick bitch fro...  \n",
       "8                                     god fuck pathet  \n",
       "9                 worri somebodi bein ugli bitch ugli  \n",
       "10        carlo correa gyalchest walkup music bad ass  \n",
       "11  damn dean put corbin sleep match also show pre...  \n",
       "12  forc awaken bad lip read featur mark hamil han...  \n",
       "13            hate ol forgot wallet home id ass bitch  \n",
       "14                             want cri fuck bad look  \n",
       "15                                     bad bitch kill  \n",
       "16  one ass extend april fool pray someon say bad ...  \n",
       "17        btw watch watch pov stream boii feel retard  \n",
       "18  disgust insult park chariti give fuck budget a...  \n",
       "19  everi bird turd talk children god bro amp sist...  "
      ]
     },
     "execution_count": 81,
     "metadata": {},
     "output_type": "execute_result"
    }
   ],
   "source": [
    "df.head(20)"
   ]
  },
  {
   "cell_type": "code",
   "execution_count": 41,
   "id": "37742bf6",
   "metadata": {},
   "outputs": [
    {
     "data": {
      "text/html": [
       "<div>\n",
       "<style scoped>\n",
       "    .dataframe tbody tr th:only-of-type {\n",
       "        vertical-align: middle;\n",
       "    }\n",
       "\n",
       "    .dataframe tbody tr th {\n",
       "        vertical-align: top;\n",
       "    }\n",
       "\n",
       "    .dataframe thead th {\n",
       "        text-align: right;\n",
       "    }\n",
       "</style>\n",
       "<table border=\"1\" class=\"dataframe\">\n",
       "  <thead>\n",
       "    <tr style=\"text-align: right;\">\n",
       "      <th></th>\n",
       "      <th>text</th>\n",
       "    </tr>\n",
       "  </thead>\n",
       "  <tbody>\n",
       "    <tr>\n",
       "      <th>0</th>\n",
       "      <td>Alex Brosas another idiot #ALDUBKSGoesToUS  ht...</td>\n",
       "    </tr>\n",
       "    <tr>\n",
       "      <th>1</th>\n",
       "      <td>RT @ItIzBiz: as Nancy Reagan would say, 'just ...</td>\n",
       "    </tr>\n",
       "    <tr>\n",
       "      <th>2</th>\n",
       "      <td>RT @MailOnline: The Nazi death gas so horrific...</td>\n",
       "    </tr>\n",
       "    <tr>\n",
       "      <th>3</th>\n",
       "      <td>I hate er chase because if the Bitch that work...</td>\n",
       "    </tr>\n",
       "    <tr>\n",
       "      <th>4</th>\n",
       "      <td>But he still with the shits so he started smok...</td>\n",
       "    </tr>\n",
       "  </tbody>\n",
       "</table>\n",
       "</div>"
      ],
      "text/plain": [
       "                                                text\n",
       "0  Alex Brosas another idiot #ALDUBKSGoesToUS  ht...\n",
       "1  RT @ItIzBiz: as Nancy Reagan would say, 'just ...\n",
       "2  RT @MailOnline: The Nazi death gas so horrific...\n",
       "3  I hate er chase because if the Bitch that work...\n",
       "4  But he still with the shits so he started smok..."
      ]
     },
     "execution_count": 41,
     "metadata": {},
     "output_type": "execute_result"
    }
   ],
   "source": [
    "df = df.drop([\"label\"], axis='columns')\n",
    "df.head()"
   ]
  },
  {
   "cell_type": "code",
   "execution_count": 42,
   "id": "3d207063",
   "metadata": {},
   "outputs": [
    {
     "data": {
      "text/html": [
       "<div>\n",
       "<style scoped>\n",
       "    .dataframe tbody tr th:only-of-type {\n",
       "        vertical-align: middle;\n",
       "    }\n",
       "\n",
       "    .dataframe tbody tr th {\n",
       "        vertical-align: top;\n",
       "    }\n",
       "\n",
       "    .dataframe thead th {\n",
       "        text-align: right;\n",
       "    }\n",
       "</style>\n",
       "<table border=\"1\" class=\"dataframe\">\n",
       "  <thead>\n",
       "    <tr style=\"text-align: right;\">\n",
       "      <th></th>\n",
       "      <th>text</th>\n",
       "      <th>label</th>\n",
       "    </tr>\n",
       "  </thead>\n",
       "  <tbody>\n",
       "    <tr>\n",
       "      <th>0</th>\n",
       "      <td>Alex Brosas another idiot #ALDUBKSGoesToUS  ht...</td>\n",
       "      <td>0</td>\n",
       "    </tr>\n",
       "    <tr>\n",
       "      <th>1</th>\n",
       "      <td>RT @ItIzBiz: as Nancy Reagan would say, 'just ...</td>\n",
       "      <td>0</td>\n",
       "    </tr>\n",
       "    <tr>\n",
       "      <th>2</th>\n",
       "      <td>RT @MailOnline: The Nazi death gas so horrific...</td>\n",
       "      <td>2</td>\n",
       "    </tr>\n",
       "    <tr>\n",
       "      <th>3</th>\n",
       "      <td>I hate er chase because if the Bitch that work...</td>\n",
       "      <td>1</td>\n",
       "    </tr>\n",
       "    <tr>\n",
       "      <th>4</th>\n",
       "      <td>But he still with the shits so he started smok...</td>\n",
       "      <td>0</td>\n",
       "    </tr>\n",
       "  </tbody>\n",
       "</table>\n",
       "</div>"
      ],
      "text/plain": [
       "                                                text  label\n",
       "0  Alex Brosas another idiot #ALDUBKSGoesToUS  ht...      0\n",
       "1  RT @ItIzBiz: as Nancy Reagan would say, 'just ...      0\n",
       "2  RT @MailOnline: The Nazi death gas so horrific...      2\n",
       "3  I hate er chase because if the Bitch that work...      1\n",
       "4  But he still with the shits so he started smok...      0"
      ]
     },
     "execution_count": 42,
     "metadata": {},
     "output_type": "execute_result"
    }
   ],
   "source": [
    "df[\"label\"]=label\n",
    "df.head()"
   ]
  },
  {
   "cell_type": "markdown",
   "id": "8c9277a7",
   "metadata": {},
   "source": [
    "## Preprocessing the data"
   ]
  },
  {
   "cell_type": "code",
   "execution_count": 43,
   "id": "8d6ab777",
   "metadata": {},
   "outputs": [
    {
     "data": {
      "text/html": [
       "<div>\n",
       "<style scoped>\n",
       "    .dataframe tbody tr th:only-of-type {\n",
       "        vertical-align: middle;\n",
       "    }\n",
       "\n",
       "    .dataframe tbody tr th {\n",
       "        vertical-align: top;\n",
       "    }\n",
       "\n",
       "    .dataframe thead th {\n",
       "        text-align: right;\n",
       "    }\n",
       "</style>\n",
       "<table border=\"1\" class=\"dataframe\">\n",
       "  <thead>\n",
       "    <tr style=\"text-align: right;\">\n",
       "      <th></th>\n",
       "      <th>text</th>\n",
       "      <th>label</th>\n",
       "    </tr>\n",
       "  </thead>\n",
       "  <tbody>\n",
       "    <tr>\n",
       "      <th>0</th>\n",
       "      <td>alex brosas another idiot aldubksgoestous</td>\n",
       "      <td>0</td>\n",
       "    </tr>\n",
       "    <tr>\n",
       "      <th>1</th>\n",
       "      <td>as nancy reagan would say   just say fucking...</td>\n",
       "      <td>0</td>\n",
       "    </tr>\n",
       "    <tr>\n",
       "      <th>2</th>\n",
       "      <td>the nazi death gas so horrific even hitler f...</td>\n",
       "      <td>2</td>\n",
       "    </tr>\n",
       "    <tr>\n",
       "      <th>3</th>\n",
       "      <td>i hate er chase because if the bitch that work...</td>\n",
       "      <td>1</td>\n",
       "    </tr>\n",
       "    <tr>\n",
       "      <th>4</th>\n",
       "      <td>but he still with the shits so he started smok...</td>\n",
       "      <td>0</td>\n",
       "    </tr>\n",
       "  </tbody>\n",
       "</table>\n",
       "</div>"
      ],
      "text/plain": [
       "                                                text  label\n",
       "0        alex brosas another idiot aldubksgoestous        0\n",
       "1    as nancy reagan would say   just say fucking...      0\n",
       "2    the nazi death gas so horrific even hitler f...      2\n",
       "3  i hate er chase because if the bitch that work...      1\n",
       "4  but he still with the shits so he started smok...      0"
      ]
     },
     "execution_count": 43,
     "metadata": {},
     "output_type": "execute_result"
    }
   ],
   "source": [
    "def cleanTweet(text):\n",
    "    text = re.sub(r'@[A-Za-z0-9]+','',text) # Removing @mentions\n",
    "    text = re.sub(r'#','',text) # Removing the '#' symbol\n",
    "    text = re.sub(r'RT[\\s]+','',text) # Removing RT\n",
    "    text = re.sub(r'https?:\\/\\/\\S+','',text) # Removing hyperlinks\n",
    "    text = re.sub(r'[^a-zA-Z ]',' ', text) # Removing all the punctuations and numbers\n",
    "    text = text.lower()\n",
    "    return text\n",
    "df['text'] = df['text'].apply(cleanTweet)\n",
    "df.head()"
   ]
  },
  {
   "cell_type": "code",
   "execution_count": 44,
   "id": "2ee8c4b8",
   "metadata": {},
   "outputs": [
    {
     "data": {
      "text/plain": [
       "0      [alex, brosas, another, idiot, aldubksgoestous]\n",
       "1    [nancy, reagan, would, say, say, fucking, some...\n",
       "2    [nazi, death, gas, horrific, even, hitler, fea...\n",
       "3     [hate, er, chase, bitch, works, literally, evil]\n",
       "4    [still, shits, started, smoking, drinking, bad...\n",
       "Name: text, dtype: object"
      ]
     },
     "execution_count": 44,
     "metadata": {},
     "output_type": "execute_result"
    }
   ],
   "source": [
    "# Removing the stop words and tokeinzing the sentences\n",
    "stop_words = set(stopwords.words('english'))\n",
    "def removeStopWords(text):\n",
    "    words = word_tokenize(text)\n",
    "    filtered_sentence = [w for w in words if not w in stop_words]\n",
    "    return filtered_sentence\n",
    "tokenized_tweet = df['text'].apply(removeStopWords)\n",
    "tokenized_tweet.head()"
   ]
  },
  {
   "cell_type": "code",
   "execution_count": 45,
   "id": "976ce9be",
   "metadata": {},
   "outputs": [
    {
     "data": {
      "text/plain": [
       "0            [alex, brosa, anoth, idiot, aldubksgoest]\n",
       "1    [nanci, reagan, would, say, say, fuck, someth,...\n",
       "2    [nazi, death, ga, horrif, even, hitler, fear, ...\n",
       "3          [hate, er, chase, bitch, work, liter, evil]\n",
       "4    [still, shit, start, smoke, drink, bad, combo,...\n",
       "Name: text, dtype: object"
      ]
     },
     "execution_count": 45,
     "metadata": {},
     "output_type": "execute_result"
    }
   ],
   "source": [
    "# Stemming\n",
    "stemmer = PorterStemmer()\n",
    "def stemTweet(text):\n",
    "    text = [stemmer.stem(word) for word in text]\n",
    "    return text\n",
    "tokenized_tweet = tokenized_tweet.apply(stemTweet)\n",
    "tokenized_tweet.head()"
   ]
  },
  {
   "cell_type": "code",
   "execution_count": 46,
   "id": "7d81d561",
   "metadata": {},
   "outputs": [
    {
     "data": {
      "text/plain": [
       "'nanci reagan would say say fuck someth like'"
      ]
     },
     "execution_count": 46,
     "metadata": {},
     "output_type": "execute_result"
    }
   ],
   "source": [
    "tweet=[]\n",
    "for i in range(len(tokenized_tweet)):\n",
    "    s = tokenized_tweet[i]\n",
    "    sent = ' '.join([str(elem) for elem in s])\n",
    "    tweet.append(sent)\n",
    "df['clean_tweet'] = tweet\n",
    "df['clean_tweet'][1]"
   ]
  },
  {
   "cell_type": "markdown",
   "id": "3c5ca179",
   "metadata": {},
   "source": [
    "## Feature Extraction"
   ]
  },
  {
   "cell_type": "code",
   "execution_count": 47,
   "id": "517c5418",
   "metadata": {},
   "outputs": [
    {
     "name": "stdout",
     "output_type": "stream",
     "text": [
      "<class 'pandas.core.series.Series'>\n"
     ]
    }
   ],
   "source": [
    "vectorizer = TfidfVectorizer()\n",
    "vector = vectorizer.fit_transform(df['clean_tweet'])\n",
    "print(type(df['clean_tweet']))"
   ]
  },
  {
   "cell_type": "code",
   "execution_count": 48,
   "id": "306d4066",
   "metadata": {},
   "outputs": [],
   "source": [
    "from sklearn.model_selection import train_test_split\n",
    "x_train, x_test, y_train, y_test = train_test_split(vector, df['label'], random_state=42, test_size=0.25)"
   ]
  },
  {
   "cell_type": "markdown",
   "id": "ed229ad6",
   "metadata": {},
   "source": [
    "## Model Training"
   ]
  },
  {
   "cell_type": "code",
   "execution_count": 49,
   "id": "b29639fb",
   "metadata": {},
   "outputs": [],
   "source": [
    "# from sklearn.ensemble import RandomForestClassifier\n",
    "# model = RandomForestClassifier(bootstrap=True)\n",
    "# model.fit(x_train, y_train)"
   ]
  },
  {
   "cell_type": "code",
   "execution_count": 50,
   "id": "4458ad5c",
   "metadata": {},
   "outputs": [],
   "source": [
    "# # model.score(x_test, y_test)\n",
    "# from sklearn.metrics import f1_score, accuracy_score\n",
    "# pred = model.predict(x_test)\n",
    "# f1_score(y_test, pred, average=None)\n",
    "# accuracy_score(y_test, pred)"
   ]
  },
  {
   "cell_type": "code",
   "execution_count": 51,
   "id": "710a4a34",
   "metadata": {},
   "outputs": [
    {
     "data": {
      "text/plain": [
       "LogisticRegression(C=1.3, l1_ratio=0.9, max_iter=1000, penalty='elasticnet',\n",
       "                   solver='saga', warm_start=True)"
      ]
     },
     "execution_count": 51,
     "metadata": {},
     "output_type": "execute_result"
    }
   ],
   "source": [
    "from sklearn.linear_model import LogisticRegression\n",
    "model = LogisticRegression(penalty = 'elasticnet', warm_start = True, max_iter = 1000,  C=1.3, solver='saga', l1_ratio=0.9)\n",
    "model.fit(x_train, y_train)"
   ]
  },
  {
   "cell_type": "code",
   "execution_count": 52,
   "id": "b6f45b2b",
   "metadata": {},
   "outputs": [
    {
     "data": {
      "text/plain": [
       "0.7964855314678636"
      ]
     },
     "execution_count": 52,
     "metadata": {},
     "output_type": "execute_result"
    }
   ],
   "source": [
    "from sklearn.metrics import f1_score, accuracy_score\n",
    "pred = model.predict(x_test)\n",
    "f1_score(y_test, pred, average=None)\n",
    "accuracy_score(y_test, pred)"
   ]
  },
  {
   "cell_type": "code",
   "execution_count": 53,
   "id": "efcdeff0",
   "metadata": {},
   "outputs": [],
   "source": [
    "# fname = 'logistic_regression_model.sav'\n",
    "# pickle.dump(model, open(fname, 'wb'))"
   ]
  },
  {
   "cell_type": "code",
   "execution_count": 99,
   "id": "133bd9d5",
   "metadata": {},
   "outputs": [
    {
     "data": {
      "text/plain": [
       "<41882x43033 sparse matrix of type '<class 'numpy.float64'>'\n",
       "\twith 395286 stored elements in Compressed Sparse Row format>"
      ]
     },
     "execution_count": 99,
     "metadata": {},
     "output_type": "execute_result"
    }
   ],
   "source": [
    "inp = 'you are a nigga'\n",
    "inp = cleanTweet(inp)\n",
    "inp = removeStopWords(inp)\n",
    "inp = stemTweet(inp)\n",
    "inp = ' '.join([str(elem) for elem in inp])\n",
    "data = pd.Series([inp])\n",
    "new_data = df['clean_tweet'].append(data)\n",
    "vector_new = vectorizer.fit_transform(new_data)\n",
    "vector_new"
   ]
  },
  {
   "cell_type": "code",
   "execution_count": 100,
   "id": "2ae6ec64",
   "metadata": {},
   "outputs": [
    {
     "data": {
      "text/plain": [
       "array([0, 0, 2, ..., 2, 2, 1])"
      ]
     },
     "execution_count": 100,
     "metadata": {},
     "output_type": "execute_result"
    }
   ],
   "source": [
    "model.predict(vector_new)"
   ]
  },
  {
   "cell_type": "code",
   "execution_count": null,
   "id": "4d6e24fa",
   "metadata": {},
   "outputs": [],
   "source": []
  }
 ],
 "metadata": {
  "kernelspec": {
   "display_name": "Python 3 (ipykernel)",
   "language": "python",
   "name": "python3"
  },
  "language_info": {
   "codemirror_mode": {
    "name": "ipython",
    "version": 3
   },
   "file_extension": ".py",
   "mimetype": "text/x-python",
   "name": "python",
   "nbconvert_exporter": "python",
   "pygments_lexer": "ipython3",
   "version": "3.9.8"
  }
 },
 "nbformat": 4,
 "nbformat_minor": 5
}
