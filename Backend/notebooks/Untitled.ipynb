{
 "cells": [
  {
   "cell_type": "code",
   "execution_count": 1,
   "id": "301d8aaf",
   "metadata": {},
   "outputs": [],
   "source": [
    "import re\n",
    "import pandas as pd\n",
    "import numpy as np\n",
    "import pickle\n",
    "import nltk\n",
    "from sklearn.preprocessing import LabelEncoder\n",
    "from nltk.corpus import stopwords\n",
    "from nltk.tokenize import word_tokenize\n",
    "from nltk.stem.porter import PorterStemmer\n",
    "from sklearn.feature_extraction.text import TfidfVectorizer"
   ]
  },
  {
   "cell_type": "markdown",
   "id": "efd78af1",
   "metadata": {},
   "source": [
    "## Forming the dataframe"
   ]
  },
  {
   "cell_type": "code",
   "execution_count": 2,
   "id": "2ca73a8d",
   "metadata": {},
   "outputs": [
    {
     "data": {
      "text/html": [
       "<div>\n",
       "<style scoped>\n",
       "    .dataframe tbody tr th:only-of-type {\n",
       "        vertical-align: middle;\n",
       "    }\n",
       "\n",
       "    .dataframe tbody tr th {\n",
       "        vertical-align: top;\n",
       "    }\n",
       "\n",
       "    .dataframe thead th {\n",
       "        text-align: right;\n",
       "    }\n",
       "</style>\n",
       "<table border=\"1\" class=\"dataframe\">\n",
       "  <thead>\n",
       "    <tr style=\"text-align: right;\">\n",
       "      <th></th>\n",
       "      <th>id</th>\n",
       "      <th>text</th>\n",
       "      <th>label</th>\n",
       "      <th>withheld</th>\n",
       "    </tr>\n",
       "  </thead>\n",
       "  <tbody>\n",
       "    <tr>\n",
       "      <th>0</th>\n",
       "      <td>850490912954351616</td>\n",
       "      <td>Alex Brosas another idiot #ALDUBKSGoesToUS  ht...</td>\n",
       "      <td>abusive</td>\n",
       "      <td>NaN</td>\n",
       "    </tr>\n",
       "    <tr>\n",
       "      <th>1</th>\n",
       "      <td>848791766853668864</td>\n",
       "      <td>RT @ItIzBiz: as Nancy Reagan would say, 'just ...</td>\n",
       "      <td>abusive</td>\n",
       "      <td>NaN</td>\n",
       "    </tr>\n",
       "    <tr>\n",
       "      <th>2</th>\n",
       "      <td>850010509969465344</td>\n",
       "      <td>RT @MailOnline: The Nazi death gas so horrific...</td>\n",
       "      <td>normal</td>\n",
       "      <td>NaN</td>\n",
       "    </tr>\n",
       "    <tr>\n",
       "      <th>3</th>\n",
       "      <td>850433664890544128</td>\n",
       "      <td>I hate er chase because if the Bitch that work...</td>\n",
       "      <td>hateful</td>\n",
       "      <td>NaN</td>\n",
       "    </tr>\n",
       "    <tr>\n",
       "      <th>4</th>\n",
       "      <td>849282894682050564</td>\n",
       "      <td>But he still with the shits so he started smok...</td>\n",
       "      <td>abusive</td>\n",
       "      <td>NaN</td>\n",
       "    </tr>\n",
       "  </tbody>\n",
       "</table>\n",
       "</div>"
      ],
      "text/plain": [
       "                   id                                               text  \\\n",
       "0  850490912954351616  Alex Brosas another idiot #ALDUBKSGoesToUS  ht...   \n",
       "1  848791766853668864  RT @ItIzBiz: as Nancy Reagan would say, 'just ...   \n",
       "2  850010509969465344  RT @MailOnline: The Nazi death gas so horrific...   \n",
       "3  850433664890544128  I hate er chase because if the Bitch that work...   \n",
       "4  849282894682050564  But he still with the shits so he started smok...   \n",
       "\n",
       "     label withheld  \n",
       "0  abusive      NaN  \n",
       "1  abusive      NaN  \n",
       "2   normal      NaN  \n",
       "3  hateful      NaN  \n",
       "4  abusive      NaN  "
      ]
     },
     "execution_count": 2,
     "metadata": {},
     "output_type": "execute_result"
    }
   ],
   "source": [
    "df = pd.read_json('../src/utility/final.json')\n",
    "df = pd.DataFrame(df.data.values.tolist())\n",
    "df.head()"
   ]
  },
  {
   "cell_type": "code",
   "execution_count": 3,
   "id": "4a3c9e85",
   "metadata": {},
   "outputs": [
    {
     "data": {
      "text/html": [
       "<div>\n",
       "<style scoped>\n",
       "    .dataframe tbody tr th:only-of-type {\n",
       "        vertical-align: middle;\n",
       "    }\n",
       "\n",
       "    .dataframe tbody tr th {\n",
       "        vertical-align: top;\n",
       "    }\n",
       "\n",
       "    .dataframe thead th {\n",
       "        text-align: right;\n",
       "    }\n",
       "</style>\n",
       "<table border=\"1\" class=\"dataframe\">\n",
       "  <thead>\n",
       "    <tr style=\"text-align: right;\">\n",
       "      <th></th>\n",
       "      <th>text</th>\n",
       "      <th>label</th>\n",
       "    </tr>\n",
       "  </thead>\n",
       "  <tbody>\n",
       "    <tr>\n",
       "      <th>0</th>\n",
       "      <td>Alex Brosas another idiot #ALDUBKSGoesToUS  ht...</td>\n",
       "      <td>abusive</td>\n",
       "    </tr>\n",
       "    <tr>\n",
       "      <th>1</th>\n",
       "      <td>RT @ItIzBiz: as Nancy Reagan would say, 'just ...</td>\n",
       "      <td>abusive</td>\n",
       "    </tr>\n",
       "    <tr>\n",
       "      <th>2</th>\n",
       "      <td>RT @MailOnline: The Nazi death gas so horrific...</td>\n",
       "      <td>normal</td>\n",
       "    </tr>\n",
       "    <tr>\n",
       "      <th>3</th>\n",
       "      <td>I hate er chase because if the Bitch that work...</td>\n",
       "      <td>hateful</td>\n",
       "    </tr>\n",
       "    <tr>\n",
       "      <th>4</th>\n",
       "      <td>But he still with the shits so he started smok...</td>\n",
       "      <td>abusive</td>\n",
       "    </tr>\n",
       "  </tbody>\n",
       "</table>\n",
       "</div>"
      ],
      "text/plain": [
       "                                                text    label\n",
       "0  Alex Brosas another idiot #ALDUBKSGoesToUS  ht...  abusive\n",
       "1  RT @ItIzBiz: as Nancy Reagan would say, 'just ...  abusive\n",
       "2  RT @MailOnline: The Nazi death gas so horrific...   normal\n",
       "3  I hate er chase because if the Bitch that work...  hateful\n",
       "4  But he still with the shits so he started smok...  abusive"
      ]
     },
     "execution_count": 3,
     "metadata": {},
     "output_type": "execute_result"
    }
   ],
   "source": [
    "df = df.drop(['id', 'withheld'], axis=1)\n",
    "df.head()"
   ]
  },
  {
   "cell_type": "code",
   "execution_count": 4,
   "id": "d7c329ee",
   "metadata": {},
   "outputs": [
    {
     "data": {
      "text/plain": [
       "array(['abusive', 'hateful', 'normal', 'spam'], dtype=object)"
      ]
     },
     "execution_count": 4,
     "metadata": {},
     "output_type": "execute_result"
    }
   ],
   "source": [
    "lb = LabelEncoder()\n",
    "label = lb.fit_transform(df[\"label\"])\n",
    "lb.classes_"
   ]
  },
  {
   "cell_type": "code",
   "execution_count": 5,
   "id": "7fd8897a",
   "metadata": {},
   "outputs": [
    {
     "data": {
      "text/html": [
       "<div>\n",
       "<style scoped>\n",
       "    .dataframe tbody tr th:only-of-type {\n",
       "        vertical-align: middle;\n",
       "    }\n",
       "\n",
       "    .dataframe tbody tr th {\n",
       "        vertical-align: top;\n",
       "    }\n",
       "\n",
       "    .dataframe thead th {\n",
       "        text-align: right;\n",
       "    }\n",
       "</style>\n",
       "<table border=\"1\" class=\"dataframe\">\n",
       "  <thead>\n",
       "    <tr style=\"text-align: right;\">\n",
       "      <th></th>\n",
       "      <th>text</th>\n",
       "      <th>label</th>\n",
       "    </tr>\n",
       "  </thead>\n",
       "  <tbody>\n",
       "    <tr>\n",
       "      <th>0</th>\n",
       "      <td>Alex Brosas another idiot #ALDUBKSGoesToUS  ht...</td>\n",
       "      <td>abusive</td>\n",
       "    </tr>\n",
       "    <tr>\n",
       "      <th>1</th>\n",
       "      <td>RT @ItIzBiz: as Nancy Reagan would say, 'just ...</td>\n",
       "      <td>abusive</td>\n",
       "    </tr>\n",
       "    <tr>\n",
       "      <th>2</th>\n",
       "      <td>RT @MailOnline: The Nazi death gas so horrific...</td>\n",
       "      <td>normal</td>\n",
       "    </tr>\n",
       "    <tr>\n",
       "      <th>3</th>\n",
       "      <td>I hate er chase because if the Bitch that work...</td>\n",
       "      <td>hateful</td>\n",
       "    </tr>\n",
       "    <tr>\n",
       "      <th>4</th>\n",
       "      <td>But he still with the shits so he started smok...</td>\n",
       "      <td>abusive</td>\n",
       "    </tr>\n",
       "    <tr>\n",
       "      <th>5</th>\n",
       "      <td>RT @Configa: April Fools fucking #dope If you ...</td>\n",
       "      <td>abusive</td>\n",
       "    </tr>\n",
       "    <tr>\n",
       "      <th>6</th>\n",
       "      <td>Not having access to my money is fucking pissi...</td>\n",
       "      <td>abusive</td>\n",
       "    </tr>\n",
       "    <tr>\n",
       "      <th>7</th>\n",
       "      <td>Niggas keep talking about women wearing weave ...</td>\n",
       "      <td>hateful</td>\n",
       "    </tr>\n",
       "    <tr>\n",
       "      <th>8</th>\n",
       "      <td>\"God, you're fucking pathetic.\" https://t.co/u...</td>\n",
       "      <td>abusive</td>\n",
       "    </tr>\n",
       "    <tr>\n",
       "      <th>9</th>\n",
       "      <td>You Worried About Somebody Bein Ugly... Bitch ...</td>\n",
       "      <td>abusive</td>\n",
       "    </tr>\n",
       "    <tr>\n",
       "      <th>10</th>\n",
       "      <td>Carlos Correa had gyalchester as his walkup mu...</td>\n",
       "      <td>normal</td>\n",
       "    </tr>\n",
       "    <tr>\n",
       "      <th>11</th>\n",
       "      <td>Damn dean just put Corbin to sleep. That Match...</td>\n",
       "      <td>abusive</td>\n",
       "    </tr>\n",
       "    <tr>\n",
       "      <th>12</th>\n",
       "      <td>\"THE FORCE AWAKENS: A Bad Lip Reading\" (Featur...</td>\n",
       "      <td>normal</td>\n",
       "    </tr>\n",
       "    <tr>\n",
       "      <th>13</th>\n",
       "      <td>I hate a ol I forgot my Wallet at home but I h...</td>\n",
       "      <td>abusive</td>\n",
       "    </tr>\n",
       "    <tr>\n",
       "      <th>14</th>\n",
       "      <td>RT @dawseyslinstead: i just want to cry so fuc...</td>\n",
       "      <td>abusive</td>\n",
       "    </tr>\n",
       "    <tr>\n",
       "      <th>15</th>\n",
       "      <td>RT @antoniodelotero: 2. i'm a bad bitch you ca...</td>\n",
       "      <td>abusive</td>\n",
       "    </tr>\n",
       "    <tr>\n",
       "      <th>16</th>\n",
       "      <td>This is one ass extended April fools I pray so...</td>\n",
       "      <td>abusive</td>\n",
       "    </tr>\n",
       "    <tr>\n",
       "      <th>17</th>\n",
       "      <td>@Pineaqples @DenialEsports btw I watched where...</td>\n",
       "      <td>normal</td>\n",
       "    </tr>\n",
       "    <tr>\n",
       "      <th>18</th>\n",
       "      <td>RT @Kimberley1222: Disgusting. Insulting. Park...</td>\n",
       "      <td>abusive</td>\n",
       "    </tr>\n",
       "    <tr>\n",
       "      <th>19</th>\n",
       "      <td>@NikkisBubble Every bird turd is talking \"Chil...</td>\n",
       "      <td>normal</td>\n",
       "    </tr>\n",
       "  </tbody>\n",
       "</table>\n",
       "</div>"
      ],
      "text/plain": [
       "                                                 text    label\n",
       "0   Alex Brosas another idiot #ALDUBKSGoesToUS  ht...  abusive\n",
       "1   RT @ItIzBiz: as Nancy Reagan would say, 'just ...  abusive\n",
       "2   RT @MailOnline: The Nazi death gas so horrific...   normal\n",
       "3   I hate er chase because if the Bitch that work...  hateful\n",
       "4   But he still with the shits so he started smok...  abusive\n",
       "5   RT @Configa: April Fools fucking #dope If you ...  abusive\n",
       "6   Not having access to my money is fucking pissi...  abusive\n",
       "7   Niggas keep talking about women wearing weave ...  hateful\n",
       "8   \"God, you're fucking pathetic.\" https://t.co/u...  abusive\n",
       "9   You Worried About Somebody Bein Ugly... Bitch ...  abusive\n",
       "10  Carlos Correa had gyalchester as his walkup mu...   normal\n",
       "11  Damn dean just put Corbin to sleep. That Match...  abusive\n",
       "12  \"THE FORCE AWAKENS: A Bad Lip Reading\" (Featur...   normal\n",
       "13  I hate a ol I forgot my Wallet at home but I h...  abusive\n",
       "14  RT @dawseyslinstead: i just want to cry so fuc...  abusive\n",
       "15  RT @antoniodelotero: 2. i'm a bad bitch you ca...  abusive\n",
       "16  This is one ass extended April fools I pray so...  abusive\n",
       "17  @Pineaqples @DenialEsports btw I watched where...   normal\n",
       "18  RT @Kimberley1222: Disgusting. Insulting. Park...  abusive\n",
       "19  @NikkisBubble Every bird turd is talking \"Chil...   normal"
      ]
     },
     "execution_count": 5,
     "metadata": {},
     "output_type": "execute_result"
    }
   ],
   "source": [
    "df.head(20)"
   ]
  },
  {
   "cell_type": "code",
   "execution_count": 6,
   "id": "37742bf6",
   "metadata": {},
   "outputs": [
    {
     "data": {
      "text/html": [
       "<div>\n",
       "<style scoped>\n",
       "    .dataframe tbody tr th:only-of-type {\n",
       "        vertical-align: middle;\n",
       "    }\n",
       "\n",
       "    .dataframe tbody tr th {\n",
       "        vertical-align: top;\n",
       "    }\n",
       "\n",
       "    .dataframe thead th {\n",
       "        text-align: right;\n",
       "    }\n",
       "</style>\n",
       "<table border=\"1\" class=\"dataframe\">\n",
       "  <thead>\n",
       "    <tr style=\"text-align: right;\">\n",
       "      <th></th>\n",
       "      <th>text</th>\n",
       "    </tr>\n",
       "  </thead>\n",
       "  <tbody>\n",
       "    <tr>\n",
       "      <th>0</th>\n",
       "      <td>Alex Brosas another idiot #ALDUBKSGoesToUS  ht...</td>\n",
       "    </tr>\n",
       "    <tr>\n",
       "      <th>1</th>\n",
       "      <td>RT @ItIzBiz: as Nancy Reagan would say, 'just ...</td>\n",
       "    </tr>\n",
       "    <tr>\n",
       "      <th>2</th>\n",
       "      <td>RT @MailOnline: The Nazi death gas so horrific...</td>\n",
       "    </tr>\n",
       "    <tr>\n",
       "      <th>3</th>\n",
       "      <td>I hate er chase because if the Bitch that work...</td>\n",
       "    </tr>\n",
       "    <tr>\n",
       "      <th>4</th>\n",
       "      <td>But he still with the shits so he started smok...</td>\n",
       "    </tr>\n",
       "  </tbody>\n",
       "</table>\n",
       "</div>"
      ],
      "text/plain": [
       "                                                text\n",
       "0  Alex Brosas another idiot #ALDUBKSGoesToUS  ht...\n",
       "1  RT @ItIzBiz: as Nancy Reagan would say, 'just ...\n",
       "2  RT @MailOnline: The Nazi death gas so horrific...\n",
       "3  I hate er chase because if the Bitch that work...\n",
       "4  But he still with the shits so he started smok..."
      ]
     },
     "execution_count": 6,
     "metadata": {},
     "output_type": "execute_result"
    }
   ],
   "source": [
    "df = df.drop([\"label\"], axis='columns')\n",
    "df.head()"
   ]
  },
  {
   "cell_type": "code",
   "execution_count": 7,
   "id": "3d207063",
   "metadata": {},
   "outputs": [
    {
     "data": {
      "text/html": [
       "<div>\n",
       "<style scoped>\n",
       "    .dataframe tbody tr th:only-of-type {\n",
       "        vertical-align: middle;\n",
       "    }\n",
       "\n",
       "    .dataframe tbody tr th {\n",
       "        vertical-align: top;\n",
       "    }\n",
       "\n",
       "    .dataframe thead th {\n",
       "        text-align: right;\n",
       "    }\n",
       "</style>\n",
       "<table border=\"1\" class=\"dataframe\">\n",
       "  <thead>\n",
       "    <tr style=\"text-align: right;\">\n",
       "      <th></th>\n",
       "      <th>text</th>\n",
       "      <th>label</th>\n",
       "    </tr>\n",
       "  </thead>\n",
       "  <tbody>\n",
       "    <tr>\n",
       "      <th>0</th>\n",
       "      <td>Alex Brosas another idiot #ALDUBKSGoesToUS  ht...</td>\n",
       "      <td>0</td>\n",
       "    </tr>\n",
       "    <tr>\n",
       "      <th>1</th>\n",
       "      <td>RT @ItIzBiz: as Nancy Reagan would say, 'just ...</td>\n",
       "      <td>0</td>\n",
       "    </tr>\n",
       "    <tr>\n",
       "      <th>2</th>\n",
       "      <td>RT @MailOnline: The Nazi death gas so horrific...</td>\n",
       "      <td>2</td>\n",
       "    </tr>\n",
       "    <tr>\n",
       "      <th>3</th>\n",
       "      <td>I hate er chase because if the Bitch that work...</td>\n",
       "      <td>1</td>\n",
       "    </tr>\n",
       "    <tr>\n",
       "      <th>4</th>\n",
       "      <td>But he still with the shits so he started smok...</td>\n",
       "      <td>0</td>\n",
       "    </tr>\n",
       "  </tbody>\n",
       "</table>\n",
       "</div>"
      ],
      "text/plain": [
       "                                                text  label\n",
       "0  Alex Brosas another idiot #ALDUBKSGoesToUS  ht...      0\n",
       "1  RT @ItIzBiz: as Nancy Reagan would say, 'just ...      0\n",
       "2  RT @MailOnline: The Nazi death gas so horrific...      2\n",
       "3  I hate er chase because if the Bitch that work...      1\n",
       "4  But he still with the shits so he started smok...      0"
      ]
     },
     "execution_count": 7,
     "metadata": {},
     "output_type": "execute_result"
    }
   ],
   "source": [
    "df[\"label\"]=label\n",
    "df.head()"
   ]
  },
  {
   "cell_type": "markdown",
   "id": "8c9277a7",
   "metadata": {},
   "source": [
    "## Preprocessing the data"
   ]
  },
  {
   "cell_type": "code",
   "execution_count": 8,
   "id": "8d6ab777",
   "metadata": {},
   "outputs": [
    {
     "data": {
      "text/html": [
       "<div>\n",
       "<style scoped>\n",
       "    .dataframe tbody tr th:only-of-type {\n",
       "        vertical-align: middle;\n",
       "    }\n",
       "\n",
       "    .dataframe tbody tr th {\n",
       "        vertical-align: top;\n",
       "    }\n",
       "\n",
       "    .dataframe thead th {\n",
       "        text-align: right;\n",
       "    }\n",
       "</style>\n",
       "<table border=\"1\" class=\"dataframe\">\n",
       "  <thead>\n",
       "    <tr style=\"text-align: right;\">\n",
       "      <th></th>\n",
       "      <th>text</th>\n",
       "      <th>label</th>\n",
       "    </tr>\n",
       "  </thead>\n",
       "  <tbody>\n",
       "    <tr>\n",
       "      <th>0</th>\n",
       "      <td>alex brosas another idiot aldubksgoestous</td>\n",
       "      <td>0</td>\n",
       "    </tr>\n",
       "    <tr>\n",
       "      <th>1</th>\n",
       "      <td>as nancy reagan would say   just say fucking...</td>\n",
       "      <td>0</td>\n",
       "    </tr>\n",
       "    <tr>\n",
       "      <th>2</th>\n",
       "      <td>the nazi death gas so horrific even hitler f...</td>\n",
       "      <td>2</td>\n",
       "    </tr>\n",
       "    <tr>\n",
       "      <th>3</th>\n",
       "      <td>i hate er chase because if the bitch that work...</td>\n",
       "      <td>1</td>\n",
       "    </tr>\n",
       "    <tr>\n",
       "      <th>4</th>\n",
       "      <td>but he still with the shits so he started smok...</td>\n",
       "      <td>0</td>\n",
       "    </tr>\n",
       "  </tbody>\n",
       "</table>\n",
       "</div>"
      ],
      "text/plain": [
       "                                                text  label\n",
       "0        alex brosas another idiot aldubksgoestous        0\n",
       "1    as nancy reagan would say   just say fucking...      0\n",
       "2    the nazi death gas so horrific even hitler f...      2\n",
       "3  i hate er chase because if the bitch that work...      1\n",
       "4  but he still with the shits so he started smok...      0"
      ]
     },
     "execution_count": 8,
     "metadata": {},
     "output_type": "execute_result"
    }
   ],
   "source": [
    "def cleanTweet(text):\n",
    "    text = re.sub(r'@[A-Za-z0-9]+','',text) # Removing @mentions\n",
    "    text = re.sub(r'#','',text) # Removing the '#' symbol\n",
    "    text = re.sub(r'RT[\\s]+','',text) # Removing RT\n",
    "    text = re.sub(r'https?:\\/\\/\\S+','',text) # Removing hyperlinks\n",
    "    text = re.sub(r'[^a-zA-Z ]',' ', text) # Removing all the punctuations and numbers\n",
    "    text = text.lower()\n",
    "    return text\n",
    "df['text'] = df['text'].apply(cleanTweet)\n",
    "df.head()"
   ]
  },
  {
   "cell_type": "code",
   "execution_count": 9,
   "id": "2ee8c4b8",
   "metadata": {},
   "outputs": [
    {
     "data": {
      "text/plain": [
       "0      [alex, brosas, another, idiot, aldubksgoestous]\n",
       "1    [nancy, reagan, would, say, say, fucking, some...\n",
       "2    [nazi, death, gas, horrific, even, hitler, fea...\n",
       "3     [hate, er, chase, bitch, works, literally, evil]\n",
       "4    [still, shits, started, smoking, drinking, bad...\n",
       "Name: text, dtype: object"
      ]
     },
     "execution_count": 9,
     "metadata": {},
     "output_type": "execute_result"
    }
   ],
   "source": [
    "# Removing the stop words and tokeinzing the sentences\n",
    "stop_words = set(stopwords.words('english'))\n",
    "def removeStopWords(text):\n",
    "    words = word_tokenize(text)\n",
    "    filtered_sentence = [w for w in words if not w in stop_words]\n",
    "    return filtered_sentence\n",
    "tokenized_tweet = df['text'].apply(removeStopWords)\n",
    "tokenized_tweet.head()"
   ]
  },
  {
   "cell_type": "code",
   "execution_count": 10,
   "id": "976ce9be",
   "metadata": {},
   "outputs": [
    {
     "data": {
      "text/plain": [
       "0            [alex, brosa, anoth, idiot, aldubksgoest]\n",
       "1    [nanci, reagan, would, say, say, fuck, someth,...\n",
       "2    [nazi, death, ga, horrif, even, hitler, fear, ...\n",
       "3          [hate, er, chase, bitch, work, liter, evil]\n",
       "4    [still, shit, start, smoke, drink, bad, combo,...\n",
       "Name: text, dtype: object"
      ]
     },
     "execution_count": 10,
     "metadata": {},
     "output_type": "execute_result"
    }
   ],
   "source": [
    "# Stemming\n",
    "stemmer = PorterStemmer()\n",
    "def stemTweet(text):\n",
    "    text = [stemmer.stem(word) for word in text]\n",
    "    return text\n",
    "tokenized_tweet = tokenized_tweet.apply(stemTweet)\n",
    "tokenized_tweet.head()"
   ]
  },
  {
   "cell_type": "code",
   "execution_count": 11,
   "id": "7d81d561",
   "metadata": {},
   "outputs": [
    {
     "data": {
      "text/plain": [
       "'nanci reagan would say say fuck someth like'"
      ]
     },
     "execution_count": 11,
     "metadata": {},
     "output_type": "execute_result"
    }
   ],
   "source": [
    "tweet=[]\n",
    "for i in range(len(tokenized_tweet)):\n",
    "    s = tokenized_tweet[i]\n",
    "    sent = ' '.join([str(elem) for elem in s])\n",
    "    tweet.append(sent)\n",
    "df['clean_tweet'] = tweet\n",
    "df['clean_tweet'][1]"
   ]
  },
  {
   "cell_type": "markdown",
   "id": "3c5ca179",
   "metadata": {},
   "source": [
    "## Feature Extraction"
   ]
  },
  {
   "cell_type": "code",
   "execution_count": 12,
   "id": "517c5418",
   "metadata": {},
   "outputs": [
    {
     "name": "stdout",
     "output_type": "stream",
     "text": [
      "<class 'pandas.core.series.Series'>\n"
     ]
    }
   ],
   "source": [
    "vectorizer = TfidfVectorizer()\n",
    "vector = vectorizer.fit_transform(df['clean_tweet'])\n",
    "print(type(df['clean_tweet']))"
   ]
  },
  {
   "cell_type": "code",
   "execution_count": 13,
   "id": "306d4066",
   "metadata": {},
   "outputs": [],
   "source": [
    "from sklearn.model_selection import train_test_split\n",
    "x_train, x_test, y_train, y_test = train_test_split(vector, df['label'], random_state=42, test_size=0.25)"
   ]
  },
  {
   "cell_type": "markdown",
   "id": "ed229ad6",
   "metadata": {},
   "source": [
    "## Model Training"
   ]
  },
  {
   "cell_type": "code",
   "execution_count": 14,
   "id": "b29639fb",
   "metadata": {},
   "outputs": [],
   "source": [
    "# from sklearn.ensemble import RandomForestClassifier\n",
    "# model = RandomForestClassifier(bootstrap=True)\n",
    "# model.fit(x_train, y_train)"
   ]
  },
  {
   "cell_type": "code",
   "execution_count": 15,
   "id": "4458ad5c",
   "metadata": {},
   "outputs": [],
   "source": [
    "# # model.score(x_test, y_test)\n",
    "# from sklearn.metrics import f1_score, accuracy_score\n",
    "# pred = model.predict(x_test)\n",
    "# f1_score(y_test, pred, average=None)\n",
    "# accuracy_score(y_test, pred)"
   ]
  },
  {
   "cell_type": "code",
   "execution_count": 16,
   "id": "710a4a34",
   "metadata": {},
   "outputs": [
    {
     "data": {
      "text/plain": [
       "LogisticRegression(C=1.3, l1_ratio=0.9, max_iter=1000, penalty='elasticnet',\n",
       "                   solver='saga', warm_start=True)"
      ]
     },
     "execution_count": 16,
     "metadata": {},
     "output_type": "execute_result"
    }
   ],
   "source": [
    "from sklearn.linear_model import LogisticRegression\n",
    "model = LogisticRegression(penalty = 'elasticnet', warm_start = True, max_iter = 1000,  C=1.3, solver='saga', l1_ratio=0.9)\n",
    "model.fit(x_train, y_train)"
   ]
  },
  {
   "cell_type": "code",
   "execution_count": 17,
   "id": "b6f45b2b",
   "metadata": {},
   "outputs": [
    {
     "data": {
      "text/plain": [
       "0.7964855314678636"
      ]
     },
     "execution_count": 17,
     "metadata": {},
     "output_type": "execute_result"
    }
   ],
   "source": [
    "from sklearn.metrics import f1_score, accuracy_score\n",
    "pred = model.predict(x_test)\n",
    "f1_score(y_test, pred, average=None)\n",
    "accuracy_score(y_test, pred)"
   ]
  },
  {
   "cell_type": "code",
   "execution_count": 18,
   "id": "efcdeff0",
   "metadata": {},
   "outputs": [],
   "source": [
    "# fname = 'logistic_regression_model.sav'\n",
    "# pickle.dump(model, open(fname, 'wb'))"
   ]
  },
  {
   "cell_type": "code",
   "execution_count": 9,
   "id": "133bd9d5",
   "metadata": {},
   "outputs": [
    {
     "ename": "NameError",
     "evalue": "name 'cleanTweet' is not defined",
     "output_type": "error",
     "traceback": [
      "\u001b[1;31m---------------------------------------------------------------------------\u001b[0m",
      "\u001b[1;31mNameError\u001b[0m                                 Traceback (most recent call last)",
      "\u001b[1;32m~\\AppData\\Local\\Temp/ipykernel_6596/3996403751.py\u001b[0m in \u001b[0;36m<module>\u001b[1;34m\u001b[0m\n\u001b[0;32m      7\u001b[0m     \u001b[1;32mreturn\u001b[0m \u001b[0mtext\u001b[0m\u001b[1;33m\u001b[0m\u001b[1;33m\u001b[0m\u001b[0m\n\u001b[0;32m      8\u001b[0m \u001b[0minp\u001b[0m \u001b[1;33m=\u001b[0m \u001b[1;34m'you are a nigga'\u001b[0m\u001b[1;33m\u001b[0m\u001b[1;33m\u001b[0m\u001b[0m\n\u001b[1;32m----> 9\u001b[1;33m \u001b[0minp\u001b[0m \u001b[1;33m=\u001b[0m \u001b[0mcleanInput\u001b[0m\u001b[1;33m(\u001b[0m\u001b[0minp\u001b[0m\u001b[1;33m)\u001b[0m\u001b[1;33m\u001b[0m\u001b[1;33m\u001b[0m\u001b[0m\n\u001b[0m\u001b[0;32m     10\u001b[0m \u001b[0mdata\u001b[0m \u001b[1;33m=\u001b[0m \u001b[0mvectorizer\u001b[0m\u001b[1;33m.\u001b[0m\u001b[0mtransform\u001b[0m\u001b[1;33m(\u001b[0m\u001b[0minp\u001b[0m\u001b[1;33m)\u001b[0m\u001b[1;33m\u001b[0m\u001b[1;33m\u001b[0m\u001b[0m\n\u001b[0;32m     11\u001b[0m \u001b[0mdata\u001b[0m\u001b[1;33m\u001b[0m\u001b[1;33m\u001b[0m\u001b[0m\n",
      "\u001b[1;32m~\\AppData\\Local\\Temp/ipykernel_6596/3996403751.py\u001b[0m in \u001b[0;36mcleanInput\u001b[1;34m(text)\u001b[0m\n\u001b[0;32m      1\u001b[0m \u001b[1;32mdef\u001b[0m \u001b[0mcleanInput\u001b[0m\u001b[1;33m(\u001b[0m\u001b[0mtext\u001b[0m\u001b[1;33m)\u001b[0m\u001b[1;33m:\u001b[0m\u001b[1;33m\u001b[0m\u001b[1;33m\u001b[0m\u001b[0m\n\u001b[1;32m----> 2\u001b[1;33m     \u001b[0mtext\u001b[0m \u001b[1;33m=\u001b[0m \u001b[0mcleanTweet\u001b[0m\u001b[1;33m(\u001b[0m\u001b[0mtext\u001b[0m\u001b[1;33m)\u001b[0m\u001b[1;33m\u001b[0m\u001b[1;33m\u001b[0m\u001b[0m\n\u001b[0m\u001b[0;32m      3\u001b[0m     \u001b[0mtext\u001b[0m \u001b[1;33m=\u001b[0m \u001b[0mremoveStopWords\u001b[0m\u001b[1;33m(\u001b[0m\u001b[0mtext\u001b[0m\u001b[1;33m)\u001b[0m\u001b[1;33m\u001b[0m\u001b[1;33m\u001b[0m\u001b[0m\n\u001b[0;32m      4\u001b[0m     \u001b[0mtext\u001b[0m \u001b[1;33m=\u001b[0m \u001b[0mstemTweet\u001b[0m\u001b[1;33m(\u001b[0m\u001b[0mtext\u001b[0m\u001b[1;33m)\u001b[0m\u001b[1;33m\u001b[0m\u001b[1;33m\u001b[0m\u001b[0m\n\u001b[0;32m      5\u001b[0m     \u001b[0mtext\u001b[0m \u001b[1;33m=\u001b[0m \u001b[1;34m' '\u001b[0m\u001b[1;33m.\u001b[0m\u001b[0mjoin\u001b[0m\u001b[1;33m(\u001b[0m\u001b[1;33m[\u001b[0m\u001b[0mstr\u001b[0m\u001b[1;33m(\u001b[0m\u001b[0melem\u001b[0m\u001b[1;33m)\u001b[0m \u001b[1;32mfor\u001b[0m \u001b[0melem\u001b[0m \u001b[1;32min\u001b[0m \u001b[0mtext\u001b[0m\u001b[1;33m]\u001b[0m\u001b[1;33m)\u001b[0m\u001b[1;33m\u001b[0m\u001b[1;33m\u001b[0m\u001b[0m\n",
      "\u001b[1;31mNameError\u001b[0m: name 'cleanTweet' is not defined"
     ]
    }
   ],
   "source": [
    "def cleanInput(text):    \n",
    "    text = cleanTweet(text)\n",
    "    text = removeStopWords(text)\n",
    "    text = stemTweet(text)\n",
    "    text = ' '.join([str(elem) for elem in text])\n",
    "    text = [text]\n",
    "    return text\n",
    "inp = 'you are a nigga'\n",
    "inp = cleanInput(inp)\n",
    "data = vectorizer.transform(inp)\n",
    "data"
   ]
  },
  {
   "cell_type": "code",
   "execution_count": 20,
   "id": "2ae6ec64",
   "metadata": {},
   "outputs": [
    {
     "data": {
      "text/plain": [
       "array([1])"
      ]
     },
     "execution_count": 20,
     "metadata": {},
     "output_type": "execute_result"
    }
   ],
   "source": [
    "model.predict(data)"
   ]
  }
 ],
 "metadata": {
  "kernelspec": {
   "display_name": "Python 3 (ipykernel)",
   "language": "python",
   "name": "python3"
  },
  "language_info": {
   "codemirror_mode": {
    "name": "ipython",
    "version": 3
   },
   "file_extension": ".py",
   "mimetype": "text/x-python",
   "name": "python",
   "nbconvert_exporter": "python",
   "pygments_lexer": "ipython3",
   "version": "3.9.8"
  }
 },
 "nbformat": 4,
 "nbformat_minor": 5
}
