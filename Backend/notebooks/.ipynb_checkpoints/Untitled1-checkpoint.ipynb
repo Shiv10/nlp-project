{
 "cells": [
  {
   "cell_type": "code",
   "execution_count": 1,
   "id": "520731db",
   "metadata": {},
   "outputs": [],
   "source": [
    "import re\n",
    "import pandas as pd\n",
    "import numpy as np\n",
    "import pickle\n",
    "import nltk\n",
    "from sklearn.preprocessing import LabelEncoder\n",
    "from nltk.corpus import stopwords\n",
    "from nltk.tokenize import word_tokenize\n",
    "from nltk.stem.porter import PorterStemmer\n",
    "from sklearn.feature_extraction.text import TfidfVectorizer"
   ]
  },
  {
   "cell_type": "code",
   "execution_count": 2,
   "id": "13d980dd",
   "metadata": {},
   "outputs": [
    {
     "data": {
      "text/html": [
       "<div>\n",
       "<style scoped>\n",
       "    .dataframe tbody tr th:only-of-type {\n",
       "        vertical-align: middle;\n",
       "    }\n",
       "\n",
       "    .dataframe tbody tr th {\n",
       "        vertical-align: top;\n",
       "    }\n",
       "\n",
       "    .dataframe thead th {\n",
       "        text-align: right;\n",
       "    }\n",
       "</style>\n",
       "<table border=\"1\" class=\"dataframe\">\n",
       "  <thead>\n",
       "    <tr style=\"text-align: right;\">\n",
       "      <th></th>\n",
       "      <th>class</th>\n",
       "      <th>tweet</th>\n",
       "    </tr>\n",
       "  </thead>\n",
       "  <tbody>\n",
       "    <tr>\n",
       "      <th>0</th>\n",
       "      <td>2</td>\n",
       "      <td>!!! RT @mayasolovely: As a woman you shouldn't...</td>\n",
       "    </tr>\n",
       "    <tr>\n",
       "      <th>1</th>\n",
       "      <td>1</td>\n",
       "      <td>!!!!! RT @mleew17: boy dats cold...tyga dwn ba...</td>\n",
       "    </tr>\n",
       "    <tr>\n",
       "      <th>2</th>\n",
       "      <td>1</td>\n",
       "      <td>!!!!!!! RT @UrKindOfBrand Dawg!!!! RT @80sbaby...</td>\n",
       "    </tr>\n",
       "    <tr>\n",
       "      <th>3</th>\n",
       "      <td>1</td>\n",
       "      <td>!!!!!!!!! RT @C_G_Anderson: @viva_based she lo...</td>\n",
       "    </tr>\n",
       "    <tr>\n",
       "      <th>4</th>\n",
       "      <td>1</td>\n",
       "      <td>!!!!!!!!!!!!! RT @ShenikaRoberts: The shit you...</td>\n",
       "    </tr>\n",
       "  </tbody>\n",
       "</table>\n",
       "</div>"
      ],
      "text/plain": [
       "   class                                              tweet\n",
       "0      2  !!! RT @mayasolovely: As a woman you shouldn't...\n",
       "1      1  !!!!! RT @mleew17: boy dats cold...tyga dwn ba...\n",
       "2      1  !!!!!!! RT @UrKindOfBrand Dawg!!!! RT @80sbaby...\n",
       "3      1  !!!!!!!!! RT @C_G_Anderson: @viva_based she lo...\n",
       "4      1  !!!!!!!!!!!!! RT @ShenikaRoberts: The shit you..."
      ]
     },
     "execution_count": 2,
     "metadata": {},
     "output_type": "execute_result"
    }
   ],
   "source": [
    "df = pd.read_csv('labeled_data.csv')\n",
    "df = df.drop([\"Unnamed: 0\",\"count\",\"hate_speech\",\"offensive_language\",\"neither\"], axis=1)\n",
    "df.head()"
   ]
  },
  {
   "cell_type": "code",
   "execution_count": 4,
   "id": "38f45376",
   "metadata": {},
   "outputs": [
    {
     "data": {
      "text/html": [
       "<div>\n",
       "<style scoped>\n",
       "    .dataframe tbody tr th:only-of-type {\n",
       "        vertical-align: middle;\n",
       "    }\n",
       "\n",
       "    .dataframe tbody tr th {\n",
       "        vertical-align: top;\n",
       "    }\n",
       "\n",
       "    .dataframe thead th {\n",
       "        text-align: right;\n",
       "    }\n",
       "</style>\n",
       "<table border=\"1\" class=\"dataframe\">\n",
       "  <thead>\n",
       "    <tr style=\"text-align: right;\">\n",
       "      <th></th>\n",
       "      <th>class</th>\n",
       "      <th>tweet</th>\n",
       "    </tr>\n",
       "  </thead>\n",
       "  <tbody>\n",
       "    <tr>\n",
       "      <th>0</th>\n",
       "      <td>2</td>\n",
       "      <td>as a woman you shouldn t complain about ...</td>\n",
       "    </tr>\n",
       "    <tr>\n",
       "      <th>1</th>\n",
       "      <td>1</td>\n",
       "      <td>boy dats cold   tyga dwn bad for cuffi...</td>\n",
       "    </tr>\n",
       "    <tr>\n",
       "      <th>2</th>\n",
       "      <td>1</td>\n",
       "      <td>dawg       you ever fuck a bitch and s...</td>\n",
       "    </tr>\n",
       "    <tr>\n",
       "      <th>3</th>\n",
       "      <td>1</td>\n",
       "      <td>g anderson   based she look like a ...</td>\n",
       "    </tr>\n",
       "    <tr>\n",
       "      <th>4</th>\n",
       "      <td>1</td>\n",
       "      <td>the shit you hear about me mig...</td>\n",
       "    </tr>\n",
       "  </tbody>\n",
       "</table>\n",
       "</div>"
      ],
      "text/plain": [
       "   class                                              tweet\n",
       "0      2        as a woman you shouldn t complain about ...\n",
       "1      1          boy dats cold   tyga dwn bad for cuffi...\n",
       "2      1          dawg       you ever fuck a bitch and s...\n",
       "3      1             g anderson   based she look like a ...\n",
       "4      1                  the shit you hear about me mig..."
      ]
     },
     "execution_count": 4,
     "metadata": {},
     "output_type": "execute_result"
    }
   ],
   "source": [
    "def cleanTweet(text):\n",
    "    text = re.sub(r'@[A-Za-z0-9]+','',text) # Removing @mentions\n",
    "    text = re.sub(r'#','',text) # Removing the '#' symbol\n",
    "    text = re.sub(r'RT[\\s]+','',text) # Removing RT\n",
    "    text = re.sub(r'https?:\\/\\/\\S+','',text) # Removing hyperlinks\n",
    "    text = re.sub(r'[^a-zA-Z ]',' ', text) # Removing all the punctuations and numbers\n",
    "    text = text.lower()\n",
    "    return text\n",
    "df['tweet'] = df['tweet'].apply(cleanTweet)\n",
    "df.head()"
   ]
  },
  {
   "cell_type": "code",
   "execution_count": 5,
   "id": "993aaa8f",
   "metadata": {},
   "outputs": [
    {
     "data": {
      "text/plain": [
       "0    [woman, complain, cleaning, house, amp, man, a...\n",
       "1    [boy, dats, cold, tyga, dwn, bad, cuffin, dat,...\n",
       "2    [dawg, ever, fuck, bitch, start, cry, confused...\n",
       "3             [g, anderson, based, look, like, tranny]\n",
       "4    [shit, hear, might, true, might, faker, bitch,...\n",
       "Name: tweet, dtype: object"
      ]
     },
     "execution_count": 5,
     "metadata": {},
     "output_type": "execute_result"
    }
   ],
   "source": [
    "stop_words = set(stopwords.words('english'))\n",
    "def removeStopWords(text):\n",
    "    words = word_tokenize(text)\n",
    "    filtered_sentence = [w for w in words if not w in stop_words]\n",
    "    return filtered_sentence\n",
    "tokenized_tweet = df['tweet'].apply(removeStopWords)\n",
    "tokenized_tweet.head()"
   ]
  },
  {
   "cell_type": "code",
   "execution_count": 6,
   "id": "13750193",
   "metadata": {},
   "outputs": [
    {
     "data": {
      "text/plain": [
       "0    [woman, complain, clean, hous, amp, man, alway...\n",
       "1    [boy, dat, cold, tyga, dwn, bad, cuffin, dat, ...\n",
       "2    [dawg, ever, fuck, bitch, start, cri, confus, ...\n",
       "3              [g, anderson, base, look, like, tranni]\n",
       "4    [shit, hear, might, true, might, faker, bitch,...\n",
       "Name: tweet, dtype: object"
      ]
     },
     "execution_count": 6,
     "metadata": {},
     "output_type": "execute_result"
    }
   ],
   "source": [
    "stemmer = PorterStemmer()\n",
    "def stemTweet(text):\n",
    "    text = [stemmer.stem(word) for word in text]\n",
    "    return text\n",
    "tokenized_tweet = tokenized_tweet.apply(stemTweet)\n",
    "tokenized_tweet.head()"
   ]
  },
  {
   "cell_type": "code",
   "execution_count": 7,
   "id": "d13832bb",
   "metadata": {},
   "outputs": [
    {
     "data": {
      "text/plain": [
       "'boy dat cold tyga dwn bad cuffin dat hoe st place'"
      ]
     },
     "execution_count": 7,
     "metadata": {},
     "output_type": "execute_result"
    }
   ],
   "source": [
    "tweet=[]\n",
    "for i in range(len(tokenized_tweet)):\n",
    "    s = tokenized_tweet[i]\n",
    "    sent = ' '.join([str(elem) for elem in s])\n",
    "    tweet.append(sent)\n",
    "df['clean_tweet'] = tweet\n",
    "df['clean_tweet'][1]"
   ]
  },
  {
   "cell_type": "code",
   "execution_count": 8,
   "id": "50d038a3",
   "metadata": {},
   "outputs": [
    {
     "name": "stdout",
     "output_type": "stream",
     "text": [
      "<class 'pandas.core.series.Series'>\n"
     ]
    }
   ],
   "source": [
    "vectorizer = TfidfVectorizer()\n",
    "vector = vectorizer.fit_transform(df['clean_tweet'])\n",
    "print(type(df['clean_tweet']))"
   ]
  },
  {
   "cell_type": "code",
   "execution_count": 9,
   "id": "fcffb4cd",
   "metadata": {},
   "outputs": [],
   "source": [
    "from sklearn.model_selection import train_test_split\n",
    "x_train, x_test, y_train, y_test = train_test_split(vector, df['class'], random_state=42, test_size=0.25)"
   ]
  },
  {
   "cell_type": "code",
   "execution_count": 10,
   "id": "8468c036",
   "metadata": {},
   "outputs": [
    {
     "data": {
      "text/plain": [
       "LogisticRegression(C=1.3, l1_ratio=0.9, max_iter=1000, penalty='elasticnet',\n",
       "                   solver='saga', warm_start=True)"
      ]
     },
     "execution_count": 10,
     "metadata": {},
     "output_type": "execute_result"
    }
   ],
   "source": [
    "from sklearn.linear_model import LogisticRegression\n",
    "model = LogisticRegression(penalty = 'elasticnet', warm_start = True, max_iter = 1000,  C=1.3, solver='saga', l1_ratio=0.9)\n",
    "model.fit(x_train, y_train)"
   ]
  },
  {
   "cell_type": "code",
   "execution_count": 11,
   "id": "5152720f",
   "metadata": {},
   "outputs": [
    {
     "data": {
      "text/plain": [
       "0.9067140090380891"
      ]
     },
     "execution_count": 11,
     "metadata": {},
     "output_type": "execute_result"
    }
   ],
   "source": [
    "from sklearn.metrics import f1_score, accuracy_score\n",
    "pred = model.predict(x_test)\n",
    "f1_score(y_test, pred, average=None)\n",
    "accuracy_score(y_test, pred)"
   ]
  },
  {
   "cell_type": "code",
   "execution_count": 38,
   "id": "06bea6d3",
   "metadata": {},
   "outputs": [
    {
     "data": {
      "text/plain": [
       "<1x16825 sparse matrix of type '<class 'numpy.float64'>'\n",
       "\twith 3 stored elements in Compressed Sparse Row format>"
      ]
     },
     "execution_count": 38,
     "metadata": {},
     "output_type": "execute_result"
    }
   ],
   "source": [
    "def cleanInput(text):    \n",
    "    text = cleanTweet(text)\n",
    "    text = removeStopWords(text)\n",
    "    text = stemTweet(text)\n",
    "    text = ' '.join([str(elem) for elem in text])\n",
    "    text = [text]\n",
    "    return text\n",
    "inp = 'White people are Slave'\n",
    "inp = cleanInput(inp)\n",
    "data = vectorizer.transform(inp)\n",
    "data"
   ]
  },
  {
   "cell_type": "code",
   "execution_count": 39,
   "id": "bb96eb50",
   "metadata": {},
   "outputs": [
    {
     "data": {
      "text/plain": [
       "array([0], dtype=int64)"
      ]
     },
     "execution_count": 39,
     "metadata": {},
     "output_type": "execute_result"
    }
   ],
   "source": [
    "model.predict(data)"
   ]
  }
 ],
 "metadata": {
  "kernelspec": {
   "display_name": "Python 3 (ipykernel)",
   "language": "python",
   "name": "python3"
  },
  "language_info": {
   "codemirror_mode": {
    "name": "ipython",
    "version": 3
   },
   "file_extension": ".py",
   "mimetype": "text/x-python",
   "name": "python",
   "nbconvert_exporter": "python",
   "pygments_lexer": "ipython3",
   "version": "3.9.8"
  }
 },
 "nbformat": 4,
 "nbformat_minor": 5
}
